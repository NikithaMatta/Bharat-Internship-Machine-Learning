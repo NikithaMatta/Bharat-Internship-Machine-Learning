{
 "cells": [
  {
   "cell_type": "markdown",
   "id": "340851bd",
   "metadata": {},
   "source": [
    "<h1 style=\"font-size:3rem;color:teal\">House Price Prediction</h1>"
   ]
  },
  {
   "cell_type": "markdown",
   "id": "94fec86d",
   "metadata": {},
   "source": [
    "### <b>To develop a machine learning model for predicting house price, we need to use the programming language: Python and it's libraries: Scikit-learn (For Machine Learning Algorithms) and Tensorflow (For Neural Networks)</b>"
   ]
  },
  {
   "cell_type": "markdown",
   "id": "01eaaeac",
   "metadata": {},
   "source": [
    "## Importing Libraries"
   ]
  },
  {
   "cell_type": "code",
   "execution_count": 1,
   "id": "f1eaff10",
   "metadata": {},
   "outputs": [
    {
     "name": "stdout",
     "output_type": "stream",
     "text": [
      "WARNING:tensorflow:From C:\\Users\\matta\\anaconda3\\lib\\site-packages\\keras\\src\\losses.py:2976: The name tf.losses.sparse_softmax_cross_entropy is deprecated. Please use tf.compat.v1.losses.sparse_softmax_cross_entropy instead.\n",
      "\n"
     ]
    }
   ],
   "source": [
    "import warnings\n",
    "warnings.filterwarnings('ignore')\n",
    "\n",
    "#Data Preprocessing\n",
    "import pandas as pd\n",
    "\n",
    "#Encoding Categorical values to Numerical values\n",
    "from sklearn.preprocessing import LabelEncoder\n",
    "import joblib\n",
    "\n",
    "#Data Visualization\n",
    "import seaborn as sns\n",
    "import matplotlib.pyplot as plt\n",
    "\n",
    "#Split Data Into Training And Testing Data\n",
    "from sklearn.model_selection import train_test_split \n",
    "\n",
    "#Machine Learning Algorithms\n",
    "from sklearn.linear_model import LinearRegression #Linear Regression\n",
    "from sklearn.tree import DecisionTreeRegressor #Decision Tree\n",
    "from sklearn.ensemble import RandomForestRegressor #Random Forest Regression\n",
    "from sklearn.metrics import mean_squared_error\n",
    "\n",
    "#Evaluate Models\n",
    "from sklearn.metrics import mean_squared_error, r2_score\n",
    "\n",
    "#Neural Networks\n",
    "from tensorflow.keras.models import Sequential #Neural Networks\n",
    "from tensorflow.keras.layers import Dense #Hidden Layer\n",
    "from tensorflow.keras.losses import SparseCategoricalCrossentropy # Updated loss function"
   ]
  },
  {
   "cell_type": "markdown",
   "id": "339498d0",
   "metadata": {},
   "source": [
    "## Data Collection"
   ]
  },
  {
   "cell_type": "code",
   "execution_count": 2,
   "id": "f7744e77",
   "metadata": {},
   "outputs": [
    {
     "data": {
      "text/html": [
       "<div>\n",
       "<style scoped>\n",
       "    .dataframe tbody tr th:only-of-type {\n",
       "        vertical-align: middle;\n",
       "    }\n",
       "\n",
       "    .dataframe tbody tr th {\n",
       "        vertical-align: top;\n",
       "    }\n",
       "\n",
       "    .dataframe thead th {\n",
       "        text-align: right;\n",
       "    }\n",
       "</style>\n",
       "<table border=\"1\" class=\"dataframe\">\n",
       "  <thead>\n",
       "    <tr style=\"text-align: right;\">\n",
       "      <th></th>\n",
       "      <th>Area</th>\n",
       "      <th>BHK</th>\n",
       "      <th>Bathroom</th>\n",
       "      <th>Furnishing</th>\n",
       "      <th>Locality</th>\n",
       "      <th>Parking</th>\n",
       "      <th>Price</th>\n",
       "      <th>Status</th>\n",
       "      <th>Transaction</th>\n",
       "      <th>Type</th>\n",
       "      <th>Per_Sqft</th>\n",
       "    </tr>\n",
       "  </thead>\n",
       "  <tbody>\n",
       "    <tr>\n",
       "      <th>0</th>\n",
       "      <td>800.0</td>\n",
       "      <td>3</td>\n",
       "      <td>2.0</td>\n",
       "      <td>Semi-Furnished</td>\n",
       "      <td>Rohini Sector 25</td>\n",
       "      <td>1.0</td>\n",
       "      <td>6500000</td>\n",
       "      <td>Ready_to_move</td>\n",
       "      <td>New_Property</td>\n",
       "      <td>Builder_Floor</td>\n",
       "      <td>NaN</td>\n",
       "    </tr>\n",
       "    <tr>\n",
       "      <th>1</th>\n",
       "      <td>750.0</td>\n",
       "      <td>2</td>\n",
       "      <td>2.0</td>\n",
       "      <td>Semi-Furnished</td>\n",
       "      <td>J R Designers Floors, Rohini Sector 24</td>\n",
       "      <td>1.0</td>\n",
       "      <td>5000000</td>\n",
       "      <td>Ready_to_move</td>\n",
       "      <td>New_Property</td>\n",
       "      <td>Apartment</td>\n",
       "      <td>6667.0</td>\n",
       "    </tr>\n",
       "    <tr>\n",
       "      <th>2</th>\n",
       "      <td>950.0</td>\n",
       "      <td>2</td>\n",
       "      <td>2.0</td>\n",
       "      <td>Furnished</td>\n",
       "      <td>Citizen Apartment, Rohini Sector 13</td>\n",
       "      <td>1.0</td>\n",
       "      <td>15500000</td>\n",
       "      <td>Ready_to_move</td>\n",
       "      <td>Resale</td>\n",
       "      <td>Apartment</td>\n",
       "      <td>6667.0</td>\n",
       "    </tr>\n",
       "    <tr>\n",
       "      <th>3</th>\n",
       "      <td>600.0</td>\n",
       "      <td>2</td>\n",
       "      <td>2.0</td>\n",
       "      <td>Semi-Furnished</td>\n",
       "      <td>Rohini Sector 24</td>\n",
       "      <td>1.0</td>\n",
       "      <td>4200000</td>\n",
       "      <td>Ready_to_move</td>\n",
       "      <td>Resale</td>\n",
       "      <td>Builder_Floor</td>\n",
       "      <td>6667.0</td>\n",
       "    </tr>\n",
       "    <tr>\n",
       "      <th>4</th>\n",
       "      <td>650.0</td>\n",
       "      <td>2</td>\n",
       "      <td>2.0</td>\n",
       "      <td>Semi-Furnished</td>\n",
       "      <td>Rohini Sector 24 carpet area 650 sqft status R...</td>\n",
       "      <td>1.0</td>\n",
       "      <td>6200000</td>\n",
       "      <td>Ready_to_move</td>\n",
       "      <td>New_Property</td>\n",
       "      <td>Builder_Floor</td>\n",
       "      <td>6667.0</td>\n",
       "    </tr>\n",
       "    <tr>\n",
       "      <th>5</th>\n",
       "      <td>1300.0</td>\n",
       "      <td>4</td>\n",
       "      <td>3.0</td>\n",
       "      <td>Semi-Furnished</td>\n",
       "      <td>Rohini Sector 24</td>\n",
       "      <td>1.0</td>\n",
       "      <td>15500000</td>\n",
       "      <td>Ready_to_move</td>\n",
       "      <td>New_Property</td>\n",
       "      <td>Builder_Floor</td>\n",
       "      <td>6667.0</td>\n",
       "    </tr>\n",
       "    <tr>\n",
       "      <th>6</th>\n",
       "      <td>1350.0</td>\n",
       "      <td>4</td>\n",
       "      <td>3.0</td>\n",
       "      <td>Semi-Furnished</td>\n",
       "      <td>Rohini Sector 24</td>\n",
       "      <td>1.0</td>\n",
       "      <td>10000000</td>\n",
       "      <td>Ready_to_move</td>\n",
       "      <td>Resale</td>\n",
       "      <td>Builder_Floor</td>\n",
       "      <td>6667.0</td>\n",
       "    </tr>\n",
       "    <tr>\n",
       "      <th>7</th>\n",
       "      <td>650.0</td>\n",
       "      <td>2</td>\n",
       "      <td>2.0</td>\n",
       "      <td>Semi-Furnished</td>\n",
       "      <td>Delhi Homes, Rohini Sector 24</td>\n",
       "      <td>1.0</td>\n",
       "      <td>4000000</td>\n",
       "      <td>Ready_to_move</td>\n",
       "      <td>New_Property</td>\n",
       "      <td>Apartment</td>\n",
       "      <td>6154.0</td>\n",
       "    </tr>\n",
       "    <tr>\n",
       "      <th>8</th>\n",
       "      <td>985.0</td>\n",
       "      <td>3</td>\n",
       "      <td>3.0</td>\n",
       "      <td>Unfurnished</td>\n",
       "      <td>Rohini Sector 21</td>\n",
       "      <td>1.0</td>\n",
       "      <td>6800000</td>\n",
       "      <td>Almost_ready</td>\n",
       "      <td>New_Property</td>\n",
       "      <td>Builder_Floor</td>\n",
       "      <td>6154.0</td>\n",
       "    </tr>\n",
       "    <tr>\n",
       "      <th>9</th>\n",
       "      <td>1300.0</td>\n",
       "      <td>4</td>\n",
       "      <td>4.0</td>\n",
       "      <td>Semi-Furnished</td>\n",
       "      <td>Rohini Sector 22</td>\n",
       "      <td>1.0</td>\n",
       "      <td>15000000</td>\n",
       "      <td>Ready_to_move</td>\n",
       "      <td>New_Property</td>\n",
       "      <td>Builder_Floor</td>\n",
       "      <td>6154.0</td>\n",
       "    </tr>\n",
       "    <tr>\n",
       "      <th>10</th>\n",
       "      <td>1100.0</td>\n",
       "      <td>3</td>\n",
       "      <td>2.0</td>\n",
       "      <td>Semi-Furnished</td>\n",
       "      <td>Rohini Sector 20</td>\n",
       "      <td>1.0</td>\n",
       "      <td>6200000</td>\n",
       "      <td>Ready_to_move</td>\n",
       "      <td>New_Property</td>\n",
       "      <td>Builder_Floor</td>\n",
       "      <td>6154.0</td>\n",
       "    </tr>\n",
       "  </tbody>\n",
       "</table>\n",
       "</div>"
      ],
      "text/plain": [
       "      Area  BHK  Bathroom      Furnishing  \\\n",
       "0    800.0    3       2.0  Semi-Furnished   \n",
       "1    750.0    2       2.0  Semi-Furnished   \n",
       "2    950.0    2       2.0       Furnished   \n",
       "3    600.0    2       2.0  Semi-Furnished   \n",
       "4    650.0    2       2.0  Semi-Furnished   \n",
       "5   1300.0    4       3.0  Semi-Furnished   \n",
       "6   1350.0    4       3.0  Semi-Furnished   \n",
       "7    650.0    2       2.0  Semi-Furnished   \n",
       "8    985.0    3       3.0     Unfurnished   \n",
       "9   1300.0    4       4.0  Semi-Furnished   \n",
       "10  1100.0    3       2.0  Semi-Furnished   \n",
       "\n",
       "                                             Locality  Parking     Price  \\\n",
       "0                                    Rohini Sector 25      1.0   6500000   \n",
       "1              J R Designers Floors, Rohini Sector 24      1.0   5000000   \n",
       "2                 Citizen Apartment, Rohini Sector 13      1.0  15500000   \n",
       "3                                    Rohini Sector 24      1.0   4200000   \n",
       "4   Rohini Sector 24 carpet area 650 sqft status R...      1.0   6200000   \n",
       "5                                    Rohini Sector 24      1.0  15500000   \n",
       "6                                    Rohini Sector 24      1.0  10000000   \n",
       "7                       Delhi Homes, Rohini Sector 24      1.0   4000000   \n",
       "8                                    Rohini Sector 21      1.0   6800000   \n",
       "9                                    Rohini Sector 22      1.0  15000000   \n",
       "10                                   Rohini Sector 20      1.0   6200000   \n",
       "\n",
       "           Status   Transaction           Type  Per_Sqft  \n",
       "0   Ready_to_move  New_Property  Builder_Floor       NaN  \n",
       "1   Ready_to_move  New_Property      Apartment    6667.0  \n",
       "2   Ready_to_move        Resale      Apartment    6667.0  \n",
       "3   Ready_to_move        Resale  Builder_Floor    6667.0  \n",
       "4   Ready_to_move  New_Property  Builder_Floor    6667.0  \n",
       "5   Ready_to_move  New_Property  Builder_Floor    6667.0  \n",
       "6   Ready_to_move        Resale  Builder_Floor    6667.0  \n",
       "7   Ready_to_move  New_Property      Apartment    6154.0  \n",
       "8    Almost_ready  New_Property  Builder_Floor    6154.0  \n",
       "9   Ready_to_move  New_Property  Builder_Floor    6154.0  \n",
       "10  Ready_to_move  New_Property  Builder_Floor    6154.0  "
      ]
     },
     "execution_count": 2,
     "metadata": {},
     "output_type": "execute_result"
    }
   ],
   "source": [
    "dataset_path = \"HousePriceData.csv\"\n",
    "data= pd.read_csv(dataset_path)\n",
    "data.head(11)"
   ]
  },
  {
   "cell_type": "markdown",
   "id": "d39aa70a",
   "metadata": {},
   "source": [
    "## Data Preprocessing"
   ]
  },
  {
   "cell_type": "markdown",
   "id": "dfdd388c",
   "metadata": {},
   "source": [
    "### <b>Drop 'Locality' column and check for null values"
   ]
  },
  {
   "cell_type": "code",
   "execution_count": 3,
   "id": "9860cdd6",
   "metadata": {},
   "outputs": [],
   "source": [
    "data= data.drop('Locality', axis=1)"
   ]
  },
  {
   "cell_type": "code",
   "execution_count": 4,
   "id": "aaa1197a",
   "metadata": {},
   "outputs": [
    {
     "data": {
      "text/plain": [
       "Area             0\n",
       "BHK              0\n",
       "Bathroom         2\n",
       "Furnishing       5\n",
       "Parking         33\n",
       "Price            0\n",
       "Status           0\n",
       "Transaction      0\n",
       "Type             5\n",
       "Per_Sqft       241\n",
       "dtype: int64"
      ]
     },
     "execution_count": 4,
     "metadata": {},
     "output_type": "execute_result"
    }
   ],
   "source": [
    "data.isnull().sum()"
   ]
  },
  {
   "cell_type": "markdown",
   "id": "39845b79",
   "metadata": {},
   "source": [
    "### <b>Handle the missing values</b>\n",
    "    For categorical features, fill the missing value with frequently repeated data.\n",
    "    For numerical features, fill the missing value with the median"
   ]
  },
  {
   "cell_type": "code",
   "execution_count": 5,
   "id": "26899bb9",
   "metadata": {},
   "outputs": [],
   "source": [
    "#Categorical Features\n",
    "data['Furnishing'].fillna(data['Furnishing'].mode()[0], inplace=True)\n",
    "data['Type'].fillna(data['Type'].mode()[0], inplace=True)\n",
    "\n",
    "#Numerical Features\n",
    "data['Bathroom'].fillna(data['Bathroom'].median(), inplace=True)\n",
    "data['Parking'].fillna(data['Parking'].median(), inplace=True)\n",
    "data['Per_Sqft'].fillna(data['Per_Sqft'].median(), inplace=True)\n"
   ]
  },
  {
   "cell_type": "markdown",
   "id": "f040068f",
   "metadata": {},
   "source": [
    "### <b>Check if missing values are resolved</b>"
   ]
  },
  {
   "cell_type": "code",
   "execution_count": 6,
   "id": "8e8c79b6",
   "metadata": {},
   "outputs": [
    {
     "data": {
      "text/plain": [
       "Area           0\n",
       "BHK            0\n",
       "Bathroom       0\n",
       "Furnishing     0\n",
       "Parking        0\n",
       "Price          0\n",
       "Status         0\n",
       "Transaction    0\n",
       "Type           0\n",
       "Per_Sqft       0\n",
       "dtype: int64"
      ]
     },
     "execution_count": 6,
     "metadata": {},
     "output_type": "execute_result"
    }
   ],
   "source": [
    "data.isnull().sum()"
   ]
  },
  {
   "cell_type": "markdown",
   "id": "fdf589b4",
   "metadata": {},
   "source": [
    "### <b>Convert the categorical labels into numerical values<b>\n",
    "    Save the label encoder and class mappings for further use"
   ]
  },
  {
   "cell_type": "code",
   "execution_count": 7,
   "id": "919ef95a",
   "metadata": {},
   "outputs": [
    {
     "name": "stdout",
     "output_type": "stream",
     "text": [
      "Class mapping for column 'Furnishing': {'Furnished': 0, 'Semi-Furnished': 1, 'Unfurnished': 2}\n",
      "Class mapping for column 'Status': {'Almost_ready': 0, 'Ready_to_move': 1}\n",
      "Class mapping for column 'Transaction': {'New_Property': 0, 'Resale': 1}\n",
      "Class mapping for column 'Type': {'Apartment': 0, 'Builder_Floor': 1}\n"
     ]
    }
   ],
   "source": [
    "label_encoder = LabelEncoder() #Instance Label Encoder\n",
    "class_mapping = {} #Dictionary to store classes and their corresponding numerical values\n",
    "\n",
    "# Fit and transform each categorical column in your data\n",
    "for i in data.columns:\n",
    "    if data[i].dtype == 'object':\n",
    "        data[i] = label_encoder.fit_transform(data[i])\n",
    "        # Store class mapping for the current column\n",
    "        class_mapping[i] = dict(zip(label_encoder.classes_, range(len(label_encoder.classes_))))\n",
    "\n",
    "# Print the class mappings for each categorical column\n",
    "for column, mapping in class_mapping.items():\n",
    "    print(f\"Class mapping for column '{column}': {mapping}\")"
   ]
  },
  {
   "cell_type": "code",
   "execution_count": 8,
   "id": "44e48fd2",
   "metadata": {},
   "outputs": [
    {
     "data": {
      "text/plain": [
       "['label_encoder.joblib']"
      ]
     },
     "execution_count": 8,
     "metadata": {},
     "output_type": "execute_result"
    }
   ],
   "source": [
    "joblib.dump(label_encoder, 'label_encoder.joblib') #Save the label encoder"
   ]
  },
  {
   "cell_type": "code",
   "execution_count": 9,
   "id": "7c34899d",
   "metadata": {},
   "outputs": [
    {
     "data": {
      "text/plain": [
       "['class_mappings.joblib']"
      ]
     },
     "execution_count": 9,
     "metadata": {},
     "output_type": "execute_result"
    }
   ],
   "source": [
    "joblib.dump(class_mapping, 'class_mappings.joblib') #Save the class mappings"
   ]
  },
  {
   "cell_type": "markdown",
   "id": "9ca698ff",
   "metadata": {},
   "source": [
    "## Feature Selection"
   ]
  },
  {
   "cell_type": "markdown",
   "id": "080a3169",
   "metadata": {},
   "source": [
    "### <b>Perform correlation analysis to identify features that play major role in the prediction of House Price. And plot the heatmap for the correlation</b>"
   ]
  },
  {
   "cell_type": "code",
   "execution_count": 10,
   "id": "d864f1f8",
   "metadata": {},
   "outputs": [
    {
     "name": "stdout",
     "output_type": "stream",
     "text": [
      "Relevant Features: ['Area', 'BHK', 'Bathroom', 'Price']\n"
     ]
    },
    {
     "data": {
      "image/png": "[encoded data removed]",
      "text/plain": [
       "<Figure size 1000x800 with 2 Axes>"
      ]
     },
     "metadata": {},
     "output_type": "display_data"
    }
   ],
   "source": [
    "x = data.drop('Price', axis=1)\n",
    "y = data['Price']\n",
    "\n",
    "# Concatenate features and target variable for correlation analysis\n",
    "correlation_data = pd.concat([x, y], axis=1)\n",
    "\n",
    "# Calculate the correlation matrix\n",
    "correlation_matrix = correlation_data.corr()\n",
    "\n",
    "# Set a correlation threshold\n",
    "correlation_threshold = 0.5\n",
    "\n",
    "# Identify features highly correlated with the target variable\n",
    "relevant_features = correlation_matrix['Price'].abs() > correlation_threshold\n",
    "relevant_features = relevant_features[relevant_features].index.tolist()\n",
    "\n",
    "# Print or visualize the relevant features\n",
    "print(\"Relevant Features:\", relevant_features)\n",
    "\n",
    "# Visualize the correlation matrix using a heatmap\n",
    "plt.figure(figsize=(10, 8))\n",
    "sns.heatmap(correlation_matrix, annot=True, cmap='coolwarm', fmt=\".2f\")\n",
    "plt.title('Correlation Matrix')\n",
    "plt.show()\n"
   ]
  },
  {
   "cell_type": "markdown",
   "id": "fd80ba42",
   "metadata": {},
   "source": [
    "## Split Data"
   ]
  },
  {
   "cell_type": "code",
   "execution_count": 11,
   "id": "3b801d86",
   "metadata": {},
   "outputs": [],
   "source": [
    "x = data.drop('Price', axis=1)\n",
    "y = data['Price']\n",
    "\n",
    "x_train, x_test, y_train, y_test = train_test_split(x, y, test_size=0.2, random_state=42)"
   ]
  },
  {
   "cell_type": "markdown",
   "id": "ad72365d",
   "metadata": {},
   "source": [
    "## Choose Algorithms"
   ]
  },
  {
   "cell_type": "markdown",
   "id": "4563b3e7",
   "metadata": {},
   "source": [
    "<ul>\n",
    "    <li><b>Linear Regression</b>: Simple and quick</li>\n",
    "    <li><b>Decision Trees</b>: Good for capturing complex relationships</li>\n",
    "    <li><b>Random Forest</b>: Ensemble method, robust and accurate</li>\n",
    "    <li><b>Neural Networks</b>: Deep learning for more complex patterns./li>\n",
    "</ul>"
   ]
  },
  {
   "cell_type": "markdown",
   "id": "e3cd1772",
   "metadata": {},
   "source": [
    "## Train Models"
   ]
  },
  {
   "cell_type": "markdown",
   "id": "4451dbfd",
   "metadata": {},
   "source": [
    "### Scikit-Learning Algorithms"
   ]
  },
  {
   "cell_type": "code",
   "execution_count": 12,
   "id": "9065ff0b",
   "metadata": {},
   "outputs": [],
   "source": [
    "linear_model = LinearRegression()\n",
    "tree_model = DecisionTreeRegressor()\n",
    "forest_model = RandomForestRegressor()"
   ]
  },
  {
   "cell_type": "code",
   "execution_count": 13,
   "id": "62946dbb",
   "metadata": {},
   "outputs": [
    {
     "data": {
      "text/plain": [
       "LinearRegression()"
      ]
     },
     "execution_count": 13,
     "metadata": {},
     "output_type": "execute_result"
    }
   ],
   "source": [
    "linear_model.fit(x_train, y_train)"
   ]
  },
  {
   "cell_type": "code",
   "execution_count": 14,
   "id": "76ba337d",
   "metadata": {},
   "outputs": [
    {
     "data": {
      "text/plain": [
       "DecisionTreeRegressor()"
      ]
     },
     "execution_count": 14,
     "metadata": {},
     "output_type": "execute_result"
    }
   ],
   "source": [
    "tree_model.fit(x_train, y_train)"
   ]
  },
  {
   "cell_type": "code",
   "execution_count": 15,
   "id": "1a780027",
   "metadata": {},
   "outputs": [
    {
     "data": {
      "text/plain": [
       "RandomForestRegressor()"
      ]
     },
     "execution_count": 15,
     "metadata": {},
     "output_type": "execute_result"
    }
   ],
   "source": [
    "forest_model.fit(x_train, y_train)"
   ]
  },
  {
   "cell_type": "markdown",
   "id": "c2016b8a",
   "metadata": {},
   "source": [
    "### Neural Networks"
   ]
  },
  {
   "cell_type": "code",
   "execution_count": 16,
   "id": "0338e936",
   "metadata": {},
   "outputs": [
    {
     "name": "stdout",
     "output_type": "stream",
     "text": [
      "WARNING:tensorflow:From C:\\Users\\matta\\anaconda3\\lib\\site-packages\\keras\\src\\backend.py:873: The name tf.get_default_graph is deprecated. Please use tf.compat.v1.get_default_graph instead.\n",
      "\n",
      "WARNING:tensorflow:From C:\\Users\\matta\\anaconda3\\lib\\site-packages\\keras\\src\\optimizers\\__init__.py:309: The name tf.train.Optimizer is deprecated. Please use tf.compat.v1.train.Optimizer instead.\n",
      "\n",
      "Epoch 1/50\n",
      "WARNING:tensorflow:From C:\\Users\\matta\\anaconda3\\lib\\site-packages\\keras\\src\\utils\\tf_utils.py:492: The name tf.ragged.RaggedTensorValue is deprecated. Please use tf.compat.v1.ragged.RaggedTensorValue instead.\n",
      "\n",
      "32/32 [==============================] - 1s 9ms/step - loss: 1061182936973312.0000 - val_loss: 1298200572985344.0000\n",
      "Epoch 2/50\n",
      "32/32 [==============================] - 0s 4ms/step - loss: 1060887993516032.0000 - val_loss: 1297809596743680.0000\n",
      "Epoch 3/50\n",
      "32/32 [==============================] - 0s 4ms/step - loss: 1060556811272192.0000 - val_loss: 1297354464428032.0000\n",
      "Epoch 4/50\n",
      "32/32 [==============================] - 0s 4ms/step - loss: 1060168989147136.0000 - val_loss: 1296823901749248.0000\n",
      "Epoch 5/50\n",
      "32/32 [==============================] - 0s 3ms/step - loss: 1059708353904640.0000 - val_loss: 1296237504495616.0000\n",
      "Epoch 6/50\n",
      "32/32 [==============================] - 0s 4ms/step - loss: 1059201614872576.0000 - val_loss: 1295497025290240.0000\n",
      "Epoch 7/50\n",
      "32/32 [==============================] - 0s 4ms/step - loss: 1058571663966208.0000 - val_loss: 1294693866405888.0000\n",
      "Epoch 8/50\n",
      "32/32 [==============================] - 0s 5ms/step - loss: 1057865410281472.0000 - val_loss: 1293752597479424.0000\n",
      "Epoch 9/50\n",
      "32/32 [==============================] - 0s 4ms/step - loss: 1057056547143680.0000 - val_loss: 1292570005078016.0000\n",
      "Epoch 10/50\n",
      "32/32 [==============================] - 0s 4ms/step - loss: 1056073939156992.0000 - val_loss: 1291311579660288.0000\n",
      "Epoch 11/50\n",
      "32/32 [==============================] - 0s 4ms/step - loss: 1054994291752960.0000 - val_loss: 1289818139000832.0000\n",
      "Epoch 12/50\n",
      "32/32 [==============================] - 0s 4ms/step - loss: 1053757005627392.0000 - val_loss: 1288209002659840.0000\n",
      "Epoch 13/50\n",
      "32/32 [==============================] - 0s 3ms/step - loss: 1052386239971328.0000 - val_loss: 1286452495253504.0000\n",
      "Epoch 14/50\n",
      "32/32 [==============================] - 0s 4ms/step - loss: 1050861727907840.0000 - val_loss: 1284449966751744.0000\n",
      "Epoch 15/50\n",
      "32/32 [==============================] - 0s 4ms/step - loss: 1049193938419712.0000 - val_loss: 1282330534608896.0000\n",
      "Epoch 16/50\n",
      "32/32 [==============================] - 0s 4ms/step - loss: 1047514270662656.0000 - val_loss: 1279926426664960.0000\n",
      "Epoch 17/50\n",
      "32/32 [==============================] - 0s 4ms/step - loss: 1045587172524032.0000 - val_loss: 1277588756496384.0000\n",
      "Epoch 18/50\n",
      "32/32 [==============================] - 0s 4ms/step - loss: 1043621956550656.0000 - val_loss: 1275033385172992.0000\n",
      "Epoch 19/50\n",
      "32/32 [==============================] - 0s 4ms/step - loss: 1041521784651776.0000 - val_loss: 1272278834741248.0000\n",
      "Epoch 20/50\n",
      "32/32 [==============================] - 0s 4ms/step - loss: 1039268000563200.0000 - val_loss: 1269482139942912.0000\n",
      "Epoch 21/50\n",
      "32/32 [==============================] - 0s 4ms/step - loss: 1036906640965632.0000 - val_loss: 1266594445524992.0000\n",
      "Epoch 22/50\n",
      "32/32 [==============================] - 0s 4ms/step - loss: 1034485755805696.0000 - val_loss: 1263325170106368.0000\n",
      "Epoch 23/50\n",
      "32/32 [==============================] - 0s 5ms/step - loss: 1031863208509440.0000 - val_loss: 1259913489678336.0000\n",
      "Epoch 24/50\n",
      "32/32 [==============================] - 0s 5ms/step - loss: 1029132146180096.0000 - val_loss: 1256696827609088.0000\n",
      "Epoch 25/50\n",
      "32/32 [==============================] - 0s 4ms/step - loss: 1026444301959168.0000 - val_loss: 1253069727727616.0000\n",
      "Epoch 26/50\n",
      "32/32 [==============================] - 0s 3ms/step - loss: 1023554057404416.0000 - val_loss: 1249427192807424.0000\n",
      "Epoch 27/50\n",
      "32/32 [==============================] - 0s 4ms/step - loss: 1020564424622080.0000 - val_loss: 1245527899373568.0000\n",
      "Epoch 28/50\n",
      "32/32 [==============================] - 0s 3ms/step - loss: 1017465404391424.0000 - val_loss: 1241754770604032.0000\n",
      "Epoch 29/50\n",
      "32/32 [==============================] - 0s 4ms/step - loss: 1014314777444352.0000 - val_loss: 1237863530233856.0000\n",
      "Epoch 30/50\n",
      "32/32 [==============================] - 0s 4ms/step - loss: 1011085566017536.0000 - val_loss: 1233711773253632.0000\n",
      "Epoch 31/50\n",
      "32/32 [==============================] - 0s 4ms/step - loss: 1007786292936704.0000 - val_loss: 1229599744720896.0000\n",
      "Epoch 32/50\n",
      "32/32 [==============================] - 0s 4ms/step - loss: 1004468833353728.0000 - val_loss: 1225408796164096.0000\n",
      "Epoch 33/50\n",
      "32/32 [==============================] - 0s 3ms/step - loss: 1001058897756160.0000 - val_loss: 1221172616232960.0000\n",
      "Epoch 34/50\n",
      "32/32 [==============================] - 0s 4ms/step - loss: 997554875531264.0000 - val_loss: 1216950931816448.0000\n",
      "Epoch 35/50\n",
      "32/32 [==============================] - 0s 4ms/step - loss: 994049108475904.0000 - val_loss: 1212338942246912.0000\n",
      "Epoch 36/50\n",
      "32/32 [==============================] - 0s 4ms/step - loss: 990422746791936.0000 - val_loss: 1207843319447552.0000\n",
      "Epoch 37/50\n",
      "32/32 [==============================] - 0s 3ms/step - loss: 986811685928960.0000 - val_loss: 1203323537457152.0000\n",
      "Epoch 38/50\n",
      "32/32 [==============================] - 0s 4ms/step - loss: 983096874762240.0000 - val_loss: 1198951529185280.0000\n",
      "Epoch 39/50\n",
      "32/32 [==============================] - 0s 4ms/step - loss: 979397901287424.0000 - val_loss: 1194251761221632.0000\n",
      "Epoch 40/50\n",
      "32/32 [==============================] - 0s 3ms/step - loss: 975561354641408.0000 - val_loss: 1189604203954176.0000\n",
      "Epoch 41/50\n",
      "32/32 [==============================] - 0s 4ms/step - loss: 971729572724736.0000 - val_loss: 1184758138667008.0000\n",
      "Epoch 42/50\n",
      "32/32 [==============================] - 0s 3ms/step - loss: 967878866108416.0000 - val_loss: 1179942003933184.0000\n",
      "Epoch 43/50\n",
      "32/32 [==============================] - 0s 4ms/step - loss: 964026213335040.0000 - val_loss: 1175012186783744.0000\n",
      "Epoch 44/50\n",
      "32/32 [==============================] - 0s 4ms/step - loss: 960075514511360.0000 - val_loss: 1170227324780544.0000\n",
      "Epoch 45/50\n",
      "32/32 [==============================] - 0s 4ms/step - loss: 956107568709632.0000 - val_loss: 1165453468631040.0000\n",
      "Epoch 46/50\n",
      "32/32 [==============================] - 0s 3ms/step - loss: 952151702503424.0000 - val_loss: 1160556669042688.0000\n",
      "Epoch 47/50\n",
      "32/32 [==============================] - 0s 4ms/step - loss: 948143961145344.0000 - val_loss: 1155642152714240.0000\n",
      "Epoch 48/50\n",
      "32/32 [==============================] - 0s 4ms/step - loss: 944184806604800.0000 - val_loss: 1150395044855808.0000\n",
      "Epoch 49/50\n",
      "32/32 [==============================] - 0s 4ms/step - loss: 940016138190848.0000 - val_loss: 1145431136403456.0000\n",
      "Epoch 50/50\n",
      "32/32 [==============================] - 0s 4ms/step - loss: 935839953584128.0000 - val_loss: 1140735931842560.0000\n"
     ]
    },
    {
     "data": {
      "text/plain": [
       "<keras.src.callbacks.History at 0x20bbdc7fee0>"
      ]
     },
     "execution_count": 16,
     "metadata": {},
     "output_type": "execute_result"
    }
   ],
   "source": [
    "neural_model = Sequential([\n",
    "    Dense(64, activation='relu', input_shape=(x_train.shape[1],)),\n",
    "    Dense(1)  # Output layer\n",
    "])\n",
    "\n",
    "neural_model.compile(optimizer='adam', loss='mean_squared_error')\n",
    "\n",
    "neural_model.fit(x_train, y_train, epochs=50, batch_size=32, validation_data=(x_test, y_test))"
   ]
  },
  {
   "cell_type": "markdown",
   "id": "7da98cca",
   "metadata": {},
   "source": [
    "## Evaluate Models"
   ]
  },
  {
   "cell_type": "markdown",
   "id": "188048f2",
   "metadata": {},
   "source": [
    "### <b><ul><li>MSE gives you an idea of how close the predictions are to the actual values</li><li>R-squared provides a measure of how well your model explains the variance in the target variable</li></ul></b>"
   ]
  },
  {
   "cell_type": "code",
   "execution_count": 17,
   "id": "edab3c1f",
   "metadata": {},
   "outputs": [
    {
     "name": "stdout",
     "output_type": "stream",
     "text": [
      "8/8 [==============================] - 0s 2ms/step\n",
      "Linear Regression MSE: 309497639267002.06\n",
      "Decision Tree MSE: 177182185758377.44\n",
      "Random Forest MSE: 135363524478386.72\n",
      "Neural Network MSE: 1140736014864799.5\n",
      "\n",
      "Linear Regression R-squared: 0.5907416802732128\n",
      "Decision Tree R-squared: 0.7657065049002322\n",
      "Random Forest R-squared: 0.8210046166700217\n",
      "Neural Network R-squared: -0.5084305838360377\n"
     ]
    }
   ],
   "source": [
    "#Test the models\n",
    "linear_predictions = linear_model.predict(x_test)\n",
    "tree_predictions = tree_model.predict(x_test)\n",
    "forest_predictions = forest_model.predict(x_test)\n",
    "neural_network_predictions = neural_model.predict(x_test)\n",
    "\n",
    "# Calculate Mean Squared Error\n",
    "linear_mse = mean_squared_error(y_test, linear_predictions)\n",
    "tree_mse = mean_squared_error(y_test, tree_predictions)\n",
    "forest_mse = mean_squared_error(y_test, forest_predictions)\n",
    "neural_network_mse = mean_squared_error(y_test, neural_network_predictions)\n",
    "\n",
    "# Calculate R-squared\n",
    "linear_r2 = r2_score(y_test, linear_predictions)\n",
    "tree_r2 = r2_score(y_test, tree_predictions)\n",
    "forest_r2 = r2_score(y_test, forest_predictions)\n",
    "neural_network_r2 = r2_score(y_test, neural_network_predictions)\n",
    "\n",
    "print(\"Linear Regression MSE:\", linear_mse)\n",
    "print(\"Decision Tree MSE:\", tree_mse)\n",
    "print(\"Random Forest MSE:\", forest_mse)\n",
    "print(\"Neural Network MSE:\", neural_network_mse)\n",
    "\n",
    "print(\"\\nLinear Regression R-squared:\", linear_r2)\n",
    "print(\"Decision Tree R-squared:\", tree_r2)\n",
    "print(\"Random Forest R-squared:\", forest_r2)\n",
    "print(\"Neural Network R-squared:\", neural_network_r2)\n"
   ]
  },
  {
   "cell_type": "markdown",
   "id": "33f96620",
   "metadata": {},
   "source": [
    "### <b><ul><li>Check the Accuracy of the models</li></ul></b>"
   ]
  },
  {
   "cell_type": "code",
   "execution_count": 18,
   "id": "c7beb69c",
   "metadata": {},
   "outputs": [
    {
     "name": "stdout",
     "output_type": "stream",
     "text": [
      "Linear Regression Accuracy (Full Dataset): 0.6134208527952894\n",
      "Decision Tree Accuracy (Full Dataset): 0.945544887679223\n",
      "Random Forest Accuracy (Full Dataset): 0.9418177822452984\n"
     ]
    }
   ],
   "source": [
    "linear_score = linear_model.score(x, y)\n",
    "tree_score = tree_model.score(x, y)\n",
    "forest_score = forest_model.score(x, y)\n",
    "\n",
    "print(\"Linear Regression Accuracy (Full Dataset):\", linear_score)\n",
    "print(\"Decision Tree Accuracy (Full Dataset):\", tree_score)\n",
    "print(\"Random Forest Accuracy (Full Dataset):\", forest_score)"
   ]
  },
  {
   "cell_type": "markdown",
   "id": "426eca32",
   "metadata": {},
   "source": [
    "## Predictions"
   ]
  },
  {
   "cell_type": "code",
   "execution_count": 19,
   "id": "5a406798",
   "metadata": {},
   "outputs": [
    {
     "name": "stdout",
     "output_type": "stream",
     "text": [
      "1/1 [==============================] - 0s 22ms/step\n",
      "Predicted Price (Linear Regression): 35878587.40341166\n",
      "Predicted Price (Decision Tree): 35000000.0\n",
      "Predicted Price (Random Forest Regression): 16851700.0\n",
      "Predicted Price (Neural Network): 1041771.1\n"
     ]
    }
   ],
   "source": [
    "new_data = pd.DataFrame({\n",
    "    'Area': [840.0],\n",
    "    'BHK': [4],\n",
    "    'Bathroom': [4.0],\n",
    "    'Furnishing': ['Semi-Furnished'],\n",
    "    'Parking': [2.0],\n",
    "    'Status': ['Ready_to_move'],\n",
    "    'Transaction': ['Resale'],\n",
    "    'Type': ['Apartment'],\n",
    "    'Per_Sqft': [6667.0]\n",
    "})\n",
    "\n",
    "label_encoder = joblib.load('label_encoder.joblib')\n",
    "class_mappings = joblib.load('class_mappings.joblib')\n",
    "\n",
    "# Use label mappings to encode categorical columns in new data\n",
    "for column in new_data.columns:\n",
    "    if column in class_mappings:\n",
    "        new_data[column] = new_data[column].map(class_mappings[column])\n",
    "\n",
    "\n",
    "new_predictions_linear = linear_model.predict(new_data)\n",
    "new_predictions_tree = tree_model.predict(new_data)\n",
    "new_predictions_forest = forest_model.predict(new_data)\n",
    "new_predictions_neural = neural_model.predict(new_data)\n",
    "\n",
    "\n",
    "print(\"Predicted Price (Linear Regression):\", new_predictions_linear[0])\n",
    "print(\"Predicted Price (Decision Tree):\", new_predictions_tree[0])\n",
    "print(\"Predicted Price (Random Forest Regression):\", new_predictions_forest[0])\n",
    "print(\"Predicted Price (Neural Network):\", new_predictions_neural[0][0])"
   ]
  }
 ],
 "metadata": {
  "kernelspec": {
   "display_name": "Python 3 (ipykernel)",
   "language": "python",
   "name": "python3"
  },
  "language_info": {
   "codemirror_mode": {
    "name": "ipython",
    "version": 3
   },
   "file_extension": ".py",
   "mimetype": "text/x-python",
   "name": "python",
   "nbconvert_exporter": "python",
   "pygments_lexer": "ipython3",
   "version": "3.9.13"
  }
 },
 "nbformat": 4,
 "nbformat_minor": 5
}
